{
 "cells": [
  {
   "cell_type": "markdown",
   "metadata": {},
   "source": [
    "# IMDB Web Scraping"
   ]
  },
  {
   "cell_type": "code",
   "execution_count": 1,
   "metadata": {
    "collapsed": true
   },
   "outputs": [],
   "source": [
    "import requests\n",
    "import re\n",
    "from bs4 import BeautifulSoup"
   ]
  },
  {
   "cell_type": "markdown",
   "metadata": {},
   "source": [
    "### Web Scrape IMDB Results Page"
   ]
  },
  {
   "cell_type": "code",
   "execution_count": null,
   "metadata": {
    "collapsed": true
   },
   "outputs": [],
   "source": [
    "# results page - filters used year 2008 - 2017 (10 years), feature films, country - US, \n",
    "# language: English, popularity: ascending —> 100 titles per page\n",
    "\n",
    "# features being extracted from movie results page\n",
    "'''\n",
    "- Movie title     - str\n",
    "- MPAA rating     - list of str\n",
    "- Metascore  /100 - float\n",
    "- User Rating /10 - float\n",
    "- Genre           - str\n",
    "- Runtime in mins - int\n",
    "- *Director       - str\n",
    "- *Stars          - list of str\n",
    "- US Gross        - int\n",
    "- # Votes         - int\n",
    "'''"
   ]
  },
  {
   "cell_type": "code",
   "execution_count": 2,
   "metadata": {
    "collapsed": true
   },
   "outputs": [],
   "source": [
    "url_results_pg = 'https://www.imdb.com/search/title?title_type=feature&release_date=2007-01-01,2017-12-31&countries=us&languages=en&count=100'\n",
    "response1 = requests.get(url_results_pg)\n",
    "page1 = response1.text\n",
    "soup1 = BeautifulSoup(page1,'html.parser')  "
   ]
  },
  {
   "cell_type": "code",
   "execution_count": 3,
   "metadata": {
    "collapsed": true
   },
   "outputs": [],
   "source": [
    "# movie fitlered results page\n",
    "main_section = soup1.find(id='main')\n",
    "single_movie_section = main_section.select(\".article .lister-item-content\")[0]"
   ]
  },
  {
   "cell_type": "code",
   "execution_count": 4,
   "metadata": {},
   "outputs": [
    {
     "name": "stdout",
     "output_type": "stream",
     "text": [
      "1\n",
      "The Shape of Water\n",
      "R\n",
      "87\n",
      "7.4\n",
      "Adventure, Drama, Fantasy\n"
     ]
    }
   ],
   "source": [
    "# serial number\n",
    "sno = single_movie_section.find(\"span\", class_=\"lister-item-index unbold text-primary\")\n",
    "sno_clean = sno.get_text().strip()\n",
    "sno_clean = int(sno_clean.replace(',', '').replace('.', ''))\n",
    "print(sno_clean)\n",
    "\n",
    "# title\n",
    "title = single_movie_section.find(\"h3\", class_=\"lister-item-header\").find(\"a\").get_text().strip()\n",
    "print(title)\n",
    "\n",
    "# mpaa rating\n",
    "mpaa_rating = single_movie_section.find(\"span\", class_=\"certificate\").get_text().strip()\n",
    "print(mpaa_rating)\n",
    "\n",
    "# metascore\n",
    "metascore = single_movie_section.find(\"span\", class_=\"metascore\").get_text().strip()\n",
    "metascore_clean = int(metascore.replace(',', '').replace('.', ''))\n",
    "print(metascore_clean)\n",
    "\n",
    "# user rating\n",
    "user_rating = single_movie_section.find(\"div\", class_=\"inline-block ratings-imdb-rating\")\n",
    "user_rating_num = user_rating.find(\"strong\").get_text().strip()\n",
    "user_rating_num = float(user_rating_num.replace(',', ''))\n",
    "print(user_rating_num)\n",
    " \n",
    "# genre    \n",
    "genre = single_movie_section.find(\"span\", class_=\"genre\").get_text().strip()\n",
    "print(genre)"
   ]
  },
  {
   "cell_type": "code",
   "execution_count": 5,
   "metadata": {},
   "outputs": [
    {
     "name": "stdout",
     "output_type": "stream",
     "text": [
      "123\n",
      "253005\n",
      "Guillermo del Toro\n",
      "Sally Hawkins Octavia Spencer Michael Shannon\n",
      "Movie url:  /title/tt5580390/?ref_=adv_li_tt\n"
     ]
    }
   ],
   "source": [
    "# runtime\n",
    "runtime = single_movie_section.find(\"span\", class_=\"runtime\").get_text().strip()\n",
    "runtimeNum = int(runtime.split()[0].replace(',', '').replace('.', ''))\n",
    "print(runtimeNum)\n",
    "\n",
    "# Votes\n",
    "votes = single_movie_section.find(\"p\", class_=\"sort-num_votes-visible\").get_text().strip()\n",
    "votes_count = int(votes.split()[1].replace(',', ''))\n",
    "print(votes_count)\n",
    "\n",
    "# Box office gross\n",
    "# us_box_gross = single_movie_section.find(\"p\", class_=\"sort-num_votes-visible\").split()[-1]\n",
    "# print(us_box_gross)\n",
    "\n",
    "# Director\n",
    "director = single_movie_section.find('a', href=re.compile('adv_li_dr_0')).get_text().strip()\n",
    "print(director)\n",
    "\n",
    "# Stars\n",
    "star1 = single_movie_section.find('a', href=re.compile('adv_li_st_0')).get_text().strip()\n",
    "star2 = single_movie_section.find('a', href=re.compile('adv_li_st_1')).get_text().strip()\n",
    "star3 = single_movie_section.find('a', href=re.compile('adv_li_st_2')).get_text().strip()\n",
    "print(star1, star2, star3)\n",
    "\n",
    "# Movie url\n",
    "movie_url = single_movie_section.find('a', href=re.compile('/title/'))['href']   \n",
    "print(\"Movie url: \", movie_url)\n"
   ]
  },
  {
   "cell_type": "code",
   "execution_count": 6,
   "metadata": {},
   "outputs": [
    {
     "name": "stdout",
     "output_type": "stream",
     "text": [
      "2\n",
      "The Greatest Showman\n",
      "PG\n",
      "48\n",
      "7.7\n",
      "Biography, Drama, Musical\n",
      "3\n",
      "Scott Pilgrim vs. the World\n",
      "PG-13\n",
      "69\n",
      "7.5\n",
      "Action, Comedy, Fantasy\n",
      "4\n",
      "It\n",
      "R\n",
      "69\n",
      "7.4\n",
      "Drama, Horror, Thriller\n",
      "5\n",
      "Thor: Ragnarok\n",
      "PG-13\n",
      "74\n",
      "7.9\n",
      "Action, Adventure, Comedy\n",
      "6\n",
      "Justice League\n",
      "PG-13\n",
      "45\n",
      "6.6\n",
      "Action, Adventure, Fantasy\n",
      "7\n",
      "Blade Runner 2049\n",
      "R\n",
      "81\n",
      "8.1\n",
      "Drama, Mystery, Sci-Fi\n",
      "8\n",
      "Sicario\n",
      "R\n",
      "82\n",
      "7.6\n",
      "Action, Crime, Drama\n",
      "9\n",
      "Spider-Man: Homecoming\n",
      "PG-13\n",
      "73\n",
      "7.5\n",
      "Action, Adventure, Sci-Fi\n",
      "10\n",
      "Suicide Squad\n",
      "PG-13\n",
      "40\n",
      "6.1\n",
      "Action, Adventure, Fantasy\n",
      "11\n",
      "Murder on the Orient Express\n",
      "PG-13\n",
      "52\n",
      "6.5\n",
      "Crime, Drama, Mystery\n",
      "12\n",
      "The VVitch: A New-England Folktale\n",
      "R\n",
      "83\n",
      "6.8\n",
      "Horror, Mystery\n",
      "13\n",
      "X-Men: Apocalypse\n",
      "PG-13\n",
      "52\n",
      "7.0\n",
      "Action, Adventure, Sci-Fi\n",
      "14\n",
      "Hostiles\n",
      "R\n",
      "65\n",
      "7.2\n",
      "Action, Adventure, Drama\n",
      "15\n",
      "The Dark Knight\n",
      "PG-13\n",
      "84\n",
      "9.0\n",
      "Action, Crime, Drama\n",
      "16\n",
      "Star Wars: Episode VIII - The Last Jedi\n",
      "PG-13\n",
      "85\n",
      "7.2\n",
      "Action, Adventure, Fantasy\n",
      "17\n",
      "Jumanji: Welcome to the Jungle\n",
      "PG-13\n",
      "58\n",
      "7.0\n",
      "Action, Adventure, Comedy\n",
      "18\n",
      "Fantastic Beasts and Where to Find Them\n",
      "PG-13\n",
      "66\n",
      "7.4\n",
      "Adventure, Family, Fantasy\n",
      "19\n",
      "Gods of Egypt\n",
      "PG-13\n",
      "25\n",
      "5.4\n",
      "Action, Adventure, Fantasy\n",
      "20\n",
      "Pitch Perfect 3\n",
      "PG-13\n",
      "40\n",
      "5.9\n",
      "Comedy, Music\n",
      "21\n",
      "Coco\n",
      "PG\n",
      "81\n",
      "8.4\n",
      "Animation, Adventure, Comedy\n",
      "22\n",
      "Three Billboards Outside Ebbing, Missouri\n",
      "R\n",
      "88\n",
      "8.2\n",
      "Comedy, Crime, Drama\n",
      "23\n",
      "Terrifier\n",
      "Unrated\n"
     ]
    },
    {
     "ename": "AttributeError",
     "evalue": "'NoneType' object has no attribute 'get_text'",
     "output_type": "error",
     "traceback": [
      "\u001b[0;31m---------------------------------------------------------------------------\u001b[0m",
      "\u001b[0;31mAttributeError\u001b[0m                            Traceback (most recent call last)",
      "\u001b[0;32m<ipython-input-6-acee5ae0fab0>\u001b[0m in \u001b[0;36m<module>\u001b[0;34m()\u001b[0m\n\u001b[1;32m     18\u001b[0m \u001b[0;34m\u001b[0m\u001b[0m\n\u001b[1;32m     19\u001b[0m     \u001b[0;31m# metascore\u001b[0m\u001b[0;34m\u001b[0m\u001b[0;34m\u001b[0m\u001b[0m\n\u001b[0;32m---> 20\u001b[0;31m     \u001b[0mmetascore\u001b[0m \u001b[0;34m=\u001b[0m \u001b[0msingle_movie_section\u001b[0m\u001b[0;34m.\u001b[0m\u001b[0mfind\u001b[0m\u001b[0;34m(\u001b[0m\u001b[0;34m\"span\"\u001b[0m\u001b[0;34m,\u001b[0m \u001b[0mclass_\u001b[0m\u001b[0;34m=\u001b[0m\u001b[0;34m\"metascore\"\u001b[0m\u001b[0;34m)\u001b[0m\u001b[0;34m.\u001b[0m\u001b[0mget_text\u001b[0m\u001b[0;34m(\u001b[0m\u001b[0;34m)\u001b[0m\u001b[0;34m.\u001b[0m\u001b[0mstrip\u001b[0m\u001b[0;34m(\u001b[0m\u001b[0;34m)\u001b[0m\u001b[0;34m\u001b[0m\u001b[0m\n\u001b[0m\u001b[1;32m     21\u001b[0m     \u001b[0mmetascore_clean\u001b[0m \u001b[0;34m=\u001b[0m \u001b[0mint\u001b[0m\u001b[0;34m(\u001b[0m\u001b[0mmetascore\u001b[0m\u001b[0;34m.\u001b[0m\u001b[0mreplace\u001b[0m\u001b[0;34m(\u001b[0m\u001b[0;34m','\u001b[0m\u001b[0;34m,\u001b[0m \u001b[0;34m''\u001b[0m\u001b[0;34m)\u001b[0m\u001b[0;34m.\u001b[0m\u001b[0mreplace\u001b[0m\u001b[0;34m(\u001b[0m\u001b[0;34m'.'\u001b[0m\u001b[0;34m,\u001b[0m \u001b[0;34m''\u001b[0m\u001b[0;34m)\u001b[0m\u001b[0;34m)\u001b[0m\u001b[0;34m\u001b[0m\u001b[0m\n\u001b[1;32m     22\u001b[0m     \u001b[0mprint\u001b[0m\u001b[0;34m(\u001b[0m\u001b[0mmetascore_clean\u001b[0m\u001b[0;34m)\u001b[0m\u001b[0;34m\u001b[0m\u001b[0m\n",
      "\u001b[0;31mAttributeError\u001b[0m: 'NoneType' object has no attribute 'get_text'"
     ]
    }
   ],
   "source": [
    "# parsing through a single results page and gathering all features\n",
    "# need to fix for None types in the .py file functions\n",
    "\n",
    "for i in range(1, 101):\n",
    "    single_movie_section = main_section.select(\".article .lister-item-content\")[i]\n",
    "    sno = single_movie_section.find(\"span\", class_=\"lister-item-index unbold text-primary\")\n",
    "    sno_clean = sno.get_text().strip()\n",
    "    sno_clean = int(sno_clean.replace(',', '').replace('.', ''))\n",
    "    print(sno_clean)\n",
    "    \n",
    "    # title\n",
    "    title = single_movie_section.find(\"h3\", class_=\"lister-item-header\").find(\"a\").get_text().strip()\n",
    "    print(title)\n",
    "\n",
    "    # mpaa rating\n",
    "    mpaa_rating = single_movie_section.find(\"span\", class_=\"certificate\").get_text().strip()\n",
    "    print(mpaa_rating)\n",
    "\n",
    "    # metascore\n",
    "    metascore = single_movie_section.find(\"span\", class_=\"metascore\").get_text().strip()\n",
    "    metascore_clean = int(metascore.replace(',', '').replace('.', ''))\n",
    "    print(metascore_clean)\n",
    "\n",
    "    # user rating\n",
    "    user_rating = single_movie_section.find(\"div\", class_=\"inline-block ratings-imdb-rating\")\n",
    "    user_rating_num = user_rating.find(\"strong\").get_text().strip()\n",
    "    user_rating_num = float(user_rating_num.replace(',', ''))\n",
    "    print(user_rating_num)\n",
    " \n",
    "    # genre    \n",
    "    genre = single_movie_section.find(\"span\", class_=\"genre\").get_text().strip()\n",
    "    print(genre)"
   ]
  },
  {
   "cell_type": "markdown",
   "metadata": {},
   "source": [
    "### Web Scrape Individual Movie Page"
   ]
  },
  {
   "cell_type": "code",
   "execution_count": null,
   "metadata": {
    "collapsed": true
   },
   "outputs": [],
   "source": [
    "# individual movie page\n",
    "# features being extracted from individual movie page\n",
    "'''\n",
    "- Budget           - int\n",
    "- Release date     - dt\n",
    "- Writer 1         - str\n",
    "- Writer 2         - str\n",
    "'''"
   ]
  },
  {
   "cell_type": "code",
   "execution_count": 7,
   "metadata": {
    "collapsed": true
   },
   "outputs": [],
   "source": [
    "url_movie_pg = 'https://www.imdb.com/title/tt5580390/?ref_=adv_li_tt'\n",
    "response2 = requests.get(url_movie_pg)\n",
    "page2 = response2.text\n",
    "soup2 = BeautifulSoup(page2,'html.parser')  "
   ]
  },
  {
   "cell_type": "code",
   "execution_count": 8,
   "metadata": {},
   "outputs": [
    {
     "name": "stdout",
     "output_type": "stream",
     "text": [
      "$19,400,000\n",
      "22 December 2017\n",
      "Guillermo del Toro Vanessa Taylor\n"
     ]
    }
   ],
   "source": [
    "# individual movie page\n",
    "movie_section = soup2.find(id=\"pagecontent\")\n",
    "mv = movie_section.select(\".flatland\")[0]\n",
    "\n",
    "# budget\n",
    "budget = mv.find(text=re.compile(\"Budget:\")).next.strip()\n",
    "print(budget)\n",
    "\n",
    "# release dt\n",
    "release_dt = ' '.join(mv.find(text=re.compile(\"Release Date:\")).next.split()[:3])\n",
    "print(release_dt)\n",
    "\n",
    "# writers\n",
    "writer1 = mv.find('a', href=re.compile('tt_ov_wr')).get_text().strip()\n",
    "writer2 = mv.find_all('a', href=re.compile('tt_ov_wr'))[1].get_text().strip()\n",
    "print(writer1, writer2)"
   ]
  },
  {
   "cell_type": "code",
   "execution_count": null,
   "metadata": {
    "collapsed": true
   },
   "outputs": [],
   "source": []
  }
 ],
 "metadata": {
  "kernelspec": {
   "display_name": "Python 3",
   "language": "python",
   "name": "python3"
  },
  "language_info": {
   "codemirror_mode": {
    "name": "ipython",
    "version": 3
   },
   "file_extension": ".py",
   "mimetype": "text/x-python",
   "name": "python",
   "nbconvert_exporter": "python",
   "pygments_lexer": "ipython3",
   "version": "3.6.2"
  }
 },
 "nbformat": 4,
 "nbformat_minor": 1
}
