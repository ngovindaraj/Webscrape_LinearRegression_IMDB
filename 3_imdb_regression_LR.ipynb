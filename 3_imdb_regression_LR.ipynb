{
 "cells": [
  {
   "cell_type": "markdown",
   "metadata": {},
   "source": [
    "## IMDB Linear Regression"
   ]
  },
  {
   "cell_type": "code",
   "execution_count": 1,
   "metadata": {},
   "outputs": [
    {
     "name": "stderr",
     "output_type": "stream",
     "text": [
      "/Users/navina/anaconda/lib/python3.6/site-packages/statsmodels/compat/pandas.py:56: FutureWarning: The pandas.core.datetools module is deprecated and will be removed in a future version. Please use the pandas.tseries module instead.\n",
      "  from pandas.core import datetools\n"
     ]
    },
    {
     "name": "stdout",
     "output_type": "stream",
     "text": [
      "Populating the interactive namespace from numpy and matplotlib\n"
     ]
    }
   ],
   "source": [
    "import statsmodels.api as sm\n",
    "import pandas as pd\n",
    "import numpy as np\n",
    "from IPython.display import display\n",
    "from scipy import stats\n",
    "from scipy.stats import norm\n",
    "import matplotlib.pyplot as plt\n",
    "import warnings\n",
    "warnings.filterwarnings('ignore')\n",
    "\n",
    "import matplotlib.pyplot as plt\n",
    "import seaborn as sns\n",
    "from statsmodels.graphics.gofplots import ProbPlot\n",
    "sns.set_style(\"whitegrid\")\n",
    "sns.set_palette(\"Set2\")\n",
    "%pylab inline"
   ]
  },
  {
   "cell_type": "code",
   "execution_count": 2,
   "metadata": {
    "collapsed": true
   },
   "outputs": [],
   "source": [
    "imdb_df_clean = pd.read_csv(\"imdb_df_clean.csv\", sep='\\t', index_col=0)\n",
    "imdb_df_raw = pd.read_csv('imdb_df_raw.csv', sep='\\t', index_col=0)"
   ]
  },
  {
   "cell_type": "code",
   "execution_count": 3,
   "metadata": {
    "collapsed": true
   },
   "outputs": [],
   "source": [
    "imdb_df_clean = imdb_df_clean.drop('Unnamed: 0.1', axis = 1)"
   ]
  },
  {
   "cell_type": "code",
   "execution_count": 4,
   "metadata": {},
   "outputs": [
    {
     "data": {
      "text/html": [
       "<div>\n",
       "<style scoped>\n",
       "    .dataframe tbody tr th:only-of-type {\n",
       "        vertical-align: middle;\n",
       "    }\n",
       "\n",
       "    .dataframe tbody tr th {\n",
       "        vertical-align: top;\n",
       "    }\n",
       "\n",
       "    .dataframe thead th {\n",
       "        text-align: right;\n",
       "    }\n",
       "</style>\n",
       "<table border=\"1\" class=\"dataframe\">\n",
       "  <thead>\n",
       "    <tr style=\"text-align: right;\">\n",
       "      <th></th>\n",
       "      <th>genre</th>\n",
       "      <th>runtime</th>\n",
       "      <th>budget</th>\n",
       "      <th>mpaa_rating</th>\n",
       "      <th>user_rating</th>\n",
       "      <th>total_votes</th>\n",
       "      <th>critic_score</th>\n",
       "      <th>us_boxoffice_gross</th>\n",
       "    </tr>\n",
       "  </thead>\n",
       "  <tbody>\n",
       "    <tr>\n",
       "      <th>0</th>\n",
       "      <td>Action, Adventure, Sci-Fi</td>\n",
       "      <td>131.0</td>\n",
       "      <td>190000000</td>\n",
       "      <td>PG-13</td>\n",
       "      <td>7.0</td>\n",
       "      <td>409200</td>\n",
       "      <td>64</td>\n",
       "      <td>101800000</td>\n",
       "    </tr>\n",
       "    <tr>\n",
       "      <th>1</th>\n",
       "      <td>Crime, Drama, Mystery</td>\n",
       "      <td>153.0</td>\n",
       "      <td>46000000</td>\n",
       "      <td>R</td>\n",
       "      <td>8.1</td>\n",
       "      <td>453418</td>\n",
       "      <td>74</td>\n",
       "      <td>61000000</td>\n",
       "    </tr>\n",
       "  </tbody>\n",
       "</table>\n",
       "</div>"
      ],
      "text/plain": [
       "                       genre  runtime     budget mpaa_rating  user_rating  \\\n",
       "0  Action, Adventure, Sci-Fi    131.0  190000000       PG-13          7.0   \n",
       "1      Crime, Drama, Mystery    153.0   46000000           R          8.1   \n",
       "\n",
       "   total_votes  critic_score  us_boxoffice_gross  \n",
       "0       409200            64           101800000  \n",
       "1       453418            74            61000000  "
      ]
     },
     "execution_count": 4,
     "metadata": {},
     "output_type": "execute_result"
    }
   ],
   "source": [
    "imdb_df_clean.head(2)"
   ]
  },
  {
   "cell_type": "markdown",
   "metadata": {},
   "source": [
    "### Dropping Outliers"
   ]
  },
  {
   "cell_type": "code",
   "execution_count": 5,
   "metadata": {
    "collapsed": true
   },
   "outputs": [],
   "source": [
    "imdb_df_clean = imdb_df_clean[(imdb_df_clean.us_boxoffice_gross < 400000000) & (imdb_df_clean.us_boxoffice_gross > 11000)]\n",
    "imdb_df_clean = imdb_df_clean[(imdb_df_clean.budget < 250000000) & (imdb_df_clean.budget > 49999)]"
   ]
  },
  {
   "cell_type": "code",
   "execution_count": 6,
   "metadata": {},
   "outputs": [
    {
     "data": {
      "text/plain": [
       "(2195, 8)"
      ]
     },
     "execution_count": 6,
     "metadata": {},
     "output_type": "execute_result"
    }
   ],
   "source": [
    "imdb_df_clean.shape"
   ]
  },
  {
   "cell_type": "markdown",
   "metadata": {},
   "source": [
    "### Log Transformation"
   ]
  },
  {
   "cell_type": "markdown",
   "metadata": {},
   "source": [
    "- Applying log transformation on us_boxoffice_gross and budget columns.\n",
    "\n",
    "- Without transformation, the OLS model did not satisfy the assumptions for linear regression, hence these features are being transformed."
   ]
  },
  {
   "cell_type": "code",
   "execution_count": 7,
   "metadata": {
    "collapsed": true
   },
   "outputs": [],
   "source": [
    "# applying log transformation on us_boxoffice_gross and budget\n",
    "imdb_df_clean['us_boxoffice_gross'] = np.log(imdb_df_clean['us_boxoffice_gross'])\n",
    "imdb_df_clean['budget'] = np.log(imdb_df_clean['budget'])"
   ]
  },
  {
   "cell_type": "markdown",
   "metadata": {},
   "source": [
    "### Correlation matrix"
   ]
  },
  {
   "cell_type": "code",
   "execution_count": 8,
   "metadata": {},
   "outputs": [
    {
     "data": {
      "text/plain": [
       "<matplotlib.axes._subplots.AxesSubplot at 0x1117e4dd8>"
      ]
     },
     "execution_count": 8,
     "metadata": {},
     "output_type": "execute_result"
    },
    {
     "data": {
      "image/png": "[encoded data removed]",
      "text/plain": [
       "<matplotlib.figure.Figure at 0x1117e43c8>"
      ]
     },
     "metadata": {},
     "output_type": "display_data"
    }
   ],
   "source": [
    "f, ax = plt.subplots(figsize=(10, 5))\n",
    "corrmat = imdb_df_clean.corr()\n",
    "\n",
    "# # Generate a mask for the upper triangle\n",
    "# mask = np.zeros_like(corrmat, dtype=np.bool)\n",
    "# mask[np.triu_indices_from(mask)] = True\n",
    "\n",
    "# create a custom diverging colormap\n",
    "cmap = sns.diverging_palette(220, 10, as_cmap=True)\n",
    "sns.heatmap(corrmat, cmap = cmap, annot=True)"
   ]
  },
  {
   "cell_type": "code",
   "execution_count": 9,
   "metadata": {},
   "outputs": [
    {
     "data": {
      "text/plain": [
       "us_boxoffice_gross    1.000000\n",
       "budget                0.697955\n",
       "total_votes           0.503399\n",
       "critic_score          0.381313\n",
       "runtime               0.279670\n",
       "user_rating           0.197860\n",
       "Name: us_boxoffice_gross, dtype: float64"
      ]
     },
     "execution_count": 9,
     "metadata": {},
     "output_type": "execute_result"
    }
   ],
   "source": [
    "# correleation between target variable and independent variables\n",
    "corr = imdb_df_clean.corr()['us_boxoffice_gross']\n",
    "corr.sort_values(ascending=False)"
   ]
  },
  {
   "cell_type": "markdown",
   "metadata": {},
   "source": [
    "### One Hot Encoding"
   ]
  },
  {
   "cell_type": "code",
   "execution_count": 10,
   "metadata": {},
   "outputs": [
    {
     "name": "stdout",
     "output_type": "stream",
     "text": [
      "Added 3 columns for mpaa_rating\n"
     ]
    }
   ],
   "source": [
    "# # converting mpaa_rating to dummy variables\n",
    "# get k-1 dummies out of k categorical levels\n",
    "mpaa_dummies_df = pd.get_dummies(imdb_df_clean['mpaa_rating'], drop_first=True, prefix='MPAA')\n",
    "# join repurposed mpaa_rating with main df\n",
    "imdb_df_clean = imdb_df_clean.join(mpaa_dummies_df)\n",
    "# drop original mpaa_rating column\n",
    "imdb_df_clean = imdb_df_clean.drop('mpaa_rating', axis=1)\n",
    "print(\"Added %d columns for mpaa_rating\" % (mpaa_dummies_df.shape[1]))"
   ]
  },
  {
   "cell_type": "code",
   "execution_count": 11,
   "metadata": {},
   "outputs": [
    {
     "name": "stdout",
     "output_type": "stream",
     "text": [
      "Added 20 columns for genre\n"
     ]
    }
   ],
   "source": [
    "#For multiple genres, create a separate column in DF for each genre\n",
    "genre_dummies_df = imdb_df_clean['genre'].str.get_dummies(sep=', ')\n",
    "# join repurposed genre with main df\n",
    "imdb_df_clean = imdb_df_clean.join(genre_dummies_df)\n",
    "# drop original genre column\n",
    "imdb_df_clean = imdb_df_clean.drop('genre', axis=1)\n",
    "print(\"Added %d columns for genre\"  % (genre_dummies_df.shape[1]))"
   ]
  },
  {
   "cell_type": "code",
   "execution_count": 12,
   "metadata": {},
   "outputs": [
    {
     "data": {
      "image/png": "[encoded data removed]",
      "text/plain": [
       "<matplotlib.figure.Figure at 0x111995e80>"
      ]
     },
     "metadata": {},
     "output_type": "display_data"
    }
   ],
   "source": [
    "# Box plot genre/us_boxoffice_gross\n",
    "f, ax = plt.subplots(figsize=(15, 5))\n",
    "x = ['Action', 'Adventure', 'Animation', 'Biography', 'Comedy', 'Crime',\n",
    "               'Drama', 'Family', 'Fantasy', 'History', 'Horror', 'Music', 'Musical',\n",
    "               'Mystery', 'Romance', 'Sci-Fi', 'Sport', 'Thriller', 'War', 'Western']\n",
    "data = pd.DataFrame(imdb_df_clean[x].sum(), columns = [\"#movies\"])\n",
    "data[\"#movies\"].plot.bar()\n",
    "plt.show()"
   ]
  },
  {
   "cell_type": "markdown",
   "metadata": {},
   "source": [
    "## US Box Office Gross Prediction"
   ]
  },
  {
   "cell_type": "markdown",
   "metadata": {},
   "source": [
    "#### Creating random training and testing sets of features and labels"
   ]
  },
  {
   "cell_type": "code",
   "execution_count": 13,
   "metadata": {},
   "outputs": [
    {
     "name": "stdout",
     "output_type": "stream",
     "text": [
      "<class 'pandas.core.frame.DataFrame'>\n",
      "(2195, 28)\n"
     ]
    }
   ],
   "source": [
    "# create a Python list of feature names\n",
    "# Get all columns from dataframe\n",
    "feature_cols = imdb_df_clean.columns.tolist()\n",
    "# Filter columns to remove the ones not needed - retain only numeric varaibles\n",
    "feature_cols  = [c for c in feature_cols if c not in ['us_boxoffice_gross']]\n",
    "# use the list to select a subset of the original DataFrame\n",
    "X = imdb_df_clean[feature_cols]\n",
    "# check type and shape of X\n",
    "print(type(X))\n",
    "print(X.shape)"
   ]
  },
  {
   "cell_type": "code",
   "execution_count": 14,
   "metadata": {},
   "outputs": [
    {
     "name": "stdout",
     "output_type": "stream",
     "text": [
      "<class 'pandas.core.series.Series'>\n",
      "(2195,)\n"
     ]
    }
   ],
   "source": [
    "# select a Series from the DataFrame\n",
    "y = imdb_df_clean['us_boxoffice_gross']\n",
    "# print the first 5 values\n",
    "y.head()\n",
    "# check the type and shape of y\n",
    "print(type(y))\n",
    "print(y.shape)"
   ]
  },
  {
   "cell_type": "markdown",
   "metadata": {},
   "source": [
    "#### Splitting X and y into training and testing sets"
   ]
  },
  {
   "cell_type": "code",
   "execution_count": 15,
   "metadata": {},
   "outputs": [
    {
     "name": "stdout",
     "output_type": "stream",
     "text": [
      "(1646, 28)\n",
      "(1646,)\n",
      "(549, 28)\n",
      "(549,)\n"
     ]
    },
    {
     "name": "stderr",
     "output_type": "stream",
     "text": [
      "/Users/navina/anaconda/lib/python3.6/site-packages/sklearn/cross_validation.py:41: DeprecationWarning: This module was deprecated in version 0.18 in favor of the model_selection module into which all the refactored classes and functions are moved. Also note that the interface of the new CV iterators are different from that of this module. This module will be removed in 0.20.\n",
      "  \"This module will be removed in 0.20.\", DeprecationWarning)\n"
     ]
    }
   ],
   "source": [
    "from sklearn.cross_validation import train_test_split\n",
    "X_train, X_test, y_train, y_test = train_test_split(X, y, random_state=1)\n",
    "\n",
    "# default split is 75% for training and 25% for testing\n",
    "print(X_train.shape)\n",
    "print(y_train.shape)\n",
    "print(X_test.shape)\n",
    "print(y_test.shape)"
   ]
  },
  {
   "cell_type": "markdown",
   "metadata": {},
   "source": [
    "### OLS Model"
   ]
  },
  {
   "cell_type": "code",
   "execution_count": 16,
   "metadata": {},
   "outputs": [
    {
     "data": {
      "text/html": [
       "<table class=\"simpletable\">\n",
       "<caption>OLS Regression Results</caption>\n",
       "<tr>\n",
       "  <th>Dep. Variable:</th>    <td>us_boxoffice_gross</td> <th>  R-squared:         </th> <td>   0.989</td>\n",
       "</tr>\n",
       "<tr>\n",
       "  <th>Model:</th>                    <td>OLS</td>        <th>  Adj. R-squared:    </th> <td>   0.989</td>\n",
       "</tr>\n",
       "<tr>\n",
       "  <th>Method:</th>              <td>Least Squares</td>   <th>  F-statistic:       </th> <td>   5370.</td>\n",
       "</tr>\n",
       "<tr>\n",
       "  <th>Date:</th>              <td>Sat, 13 Oct 2018</td>  <th>  Prob (F-statistic):</th>  <td>  0.00</td> \n",
       "</tr>\n",
       "<tr>\n",
       "  <th>Time:</th>                  <td>09:12:43</td>      <th>  Log-Likelihood:    </th> <td> -3168.8</td>\n",
       "</tr>\n",
       "<tr>\n",
       "  <th>No. Observations:</th>       <td>  1646</td>       <th>  AIC:               </th> <td>   6394.</td>\n",
       "</tr>\n",
       "<tr>\n",
       "  <th>Df Residuals:</th>           <td>  1618</td>       <th>  BIC:               </th> <td>   6545.</td>\n",
       "</tr>\n",
       "<tr>\n",
       "  <th>Df Model:</th>               <td>    28</td>       <th>                     </th>     <td> </td>   \n",
       "</tr>\n",
       "<tr>\n",
       "  <th>Covariance Type:</th>       <td>nonrobust</td>     <th>                     </th>     <td> </td>   \n",
       "</tr>\n",
       "</table>\n",
       "<table class=\"simpletable\">\n",
       "<tr>\n",
       "         <td></td>           <th>coef</th>     <th>std err</th>      <th>t</th>      <th>P>|t|</th>  <th>[0.025</th>    <th>0.975]</th>  \n",
       "</tr>\n",
       "<tr>\n",
       "  <th>runtime</th>        <td>    0.0027</td> <td>    0.003</td> <td>    0.785</td> <td> 0.432</td> <td>   -0.004</td> <td>    0.010</td>\n",
       "</tr>\n",
       "<tr>\n",
       "  <th>budget</th>         <td>    0.8760</td> <td>    0.028</td> <td>   31.708</td> <td> 0.000</td> <td>    0.822</td> <td>    0.930</td>\n",
       "</tr>\n",
       "<tr>\n",
       "  <th>user_rating</th>    <td>   -0.0499</td> <td>    0.054</td> <td>   -0.917</td> <td> 0.359</td> <td>   -0.156</td> <td>    0.057</td>\n",
       "</tr>\n",
       "<tr>\n",
       "  <th>total_votes</th>    <td> 3.665e-06</td> <td> 3.87e-07</td> <td>    9.474</td> <td> 0.000</td> <td> 2.91e-06</td> <td> 4.42e-06</td>\n",
       "</tr>\n",
       "<tr>\n",
       "  <th>critic_score</th>   <td>    0.0330</td> <td>    0.003</td> <td>   12.503</td> <td> 0.000</td> <td>    0.028</td> <td>    0.038</td>\n",
       "</tr>\n",
       "<tr>\n",
       "  <th>MPAA_Not Rated</th> <td>   -1.2037</td> <td>    0.343</td> <td>   -3.507</td> <td> 0.000</td> <td>   -1.877</td> <td>   -0.530</td>\n",
       "</tr>\n",
       "<tr>\n",
       "  <th>MPAA_PG-13</th>     <td>    0.2367</td> <td>    0.283</td> <td>    0.835</td> <td> 0.404</td> <td>   -0.319</td> <td>    0.792</td>\n",
       "</tr>\n",
       "<tr>\n",
       "  <th>MPAA_R</th>         <td>   -0.7256</td> <td>    0.293</td> <td>   -2.480</td> <td> 0.013</td> <td>   -1.299</td> <td>   -0.152</td>\n",
       "</tr>\n",
       "<tr>\n",
       "  <th>Action</th>         <td>   -0.0383</td> <td>    0.130</td> <td>   -0.295</td> <td> 0.768</td> <td>   -0.293</td> <td>    0.216</td>\n",
       "</tr>\n",
       "<tr>\n",
       "  <th>Adventure</th>      <td>   -0.2526</td> <td>    0.140</td> <td>   -1.801</td> <td> 0.072</td> <td>   -0.528</td> <td>    0.023</td>\n",
       "</tr>\n",
       "<tr>\n",
       "  <th>Animation</th>      <td>   -0.1172</td> <td>    0.219</td> <td>   -0.536</td> <td> 0.592</td> <td>   -0.547</td> <td>    0.312</td>\n",
       "</tr>\n",
       "<tr>\n",
       "  <th>Biography</th>      <td>    0.0308</td> <td>    0.200</td> <td>    0.154</td> <td> 0.877</td> <td>   -0.361</td> <td>    0.422</td>\n",
       "</tr>\n",
       "<tr>\n",
       "  <th>Comedy</th>         <td>    0.2206</td> <td>    0.122</td> <td>    1.811</td> <td> 0.070</td> <td>   -0.018</td> <td>    0.460</td>\n",
       "</tr>\n",
       "<tr>\n",
       "  <th>Crime</th>          <td>   -0.2378</td> <td>    0.129</td> <td>   -1.842</td> <td> 0.066</td> <td>   -0.491</td> <td>    0.015</td>\n",
       "</tr>\n",
       "<tr>\n",
       "  <th>Drama</th>          <td>   -0.6980</td> <td>    0.120</td> <td>   -5.833</td> <td> 0.000</td> <td>   -0.933</td> <td>   -0.463</td>\n",
       "</tr>\n",
       "<tr>\n",
       "  <th>Family</th>         <td>    0.2254</td> <td>    0.173</td> <td>    1.304</td> <td> 0.192</td> <td>   -0.114</td> <td>    0.565</td>\n",
       "</tr>\n",
       "<tr>\n",
       "  <th>Fantasy</th>        <td>   -0.5615</td> <td>    0.167</td> <td>   -3.365</td> <td> 0.001</td> <td>   -0.889</td> <td>   -0.234</td>\n",
       "</tr>\n",
       "<tr>\n",
       "  <th>History</th>        <td>   -0.3842</td> <td>    0.279</td> <td>   -1.377</td> <td> 0.169</td> <td>   -0.932</td> <td>    0.163</td>\n",
       "</tr>\n",
       "<tr>\n",
       "  <th>Horror</th>         <td>    0.6910</td> <td>    0.160</td> <td>    4.327</td> <td> 0.000</td> <td>    0.378</td> <td>    1.004</td>\n",
       "</tr>\n",
       "<tr>\n",
       "  <th>Music</th>          <td>    0.1406</td> <td>    0.256</td> <td>    0.548</td> <td> 0.584</td> <td>   -0.362</td> <td>    0.643</td>\n",
       "</tr>\n",
       "<tr>\n",
       "  <th>Musical</th>        <td>   -0.2226</td> <td>    0.441</td> <td>   -0.504</td> <td> 0.614</td> <td>   -1.089</td> <td>    0.643</td>\n",
       "</tr>\n",
       "<tr>\n",
       "  <th>Mystery</th>        <td>    0.0734</td> <td>    0.157</td> <td>    0.468</td> <td> 0.640</td> <td>   -0.234</td> <td>    0.381</td>\n",
       "</tr>\n",
       "<tr>\n",
       "  <th>Romance</th>        <td>    0.0720</td> <td>    0.127</td> <td>    0.569</td> <td> 0.569</td> <td>   -0.176</td> <td>    0.320</td>\n",
       "</tr>\n",
       "<tr>\n",
       "  <th>Sci-Fi</th>         <td>   -0.4378</td> <td>    0.189</td> <td>   -2.320</td> <td> 0.020</td> <td>   -0.808</td> <td>   -0.068</td>\n",
       "</tr>\n",
       "<tr>\n",
       "  <th>Sport</th>          <td>    0.1254</td> <td>    0.260</td> <td>    0.482</td> <td> 0.630</td> <td>   -0.385</td> <td>    0.636</td>\n",
       "</tr>\n",
       "<tr>\n",
       "  <th>Thriller</th>       <td>   -0.1338</td> <td>    0.132</td> <td>   -1.016</td> <td> 0.310</td> <td>   -0.392</td> <td>    0.124</td>\n",
       "</tr>\n",
       "<tr>\n",
       "  <th>War</th>            <td>   -0.5956</td> <td>    0.381</td> <td>   -1.565</td> <td> 0.118</td> <td>   -1.342</td> <td>    0.151</td>\n",
       "</tr>\n",
       "<tr>\n",
       "  <th>Western</th>        <td>    0.4780</td> <td>    0.693</td> <td>    0.690</td> <td> 0.490</td> <td>   -0.880</td> <td>    1.836</td>\n",
       "</tr>\n",
       "</table>\n",
       "<table class=\"simpletable\">\n",
       "<tr>\n",
       "  <th>Omnibus:</th>       <td>163.426</td> <th>  Durbin-Watson:     </th> <td>   2.034</td>\n",
       "</tr>\n",
       "<tr>\n",
       "  <th>Prob(Omnibus):</th> <td> 0.000</td>  <th>  Jarque-Bera (JB):  </th> <td> 238.282</td>\n",
       "</tr>\n",
       "<tr>\n",
       "  <th>Skew:</th>          <td>-0.749</td>  <th>  Prob(JB):          </th> <td>1.81e-52</td>\n",
       "</tr>\n",
       "<tr>\n",
       "  <th>Kurtosis:</th>      <td> 4.110</td>  <th>  Cond. No.          </th> <td>2.86e+06</td>\n",
       "</tr>\n",
       "</table>"
      ],
      "text/plain": [
       "<class 'statsmodels.iolib.summary.Summary'>\n",
       "\"\"\"\n",
       "                            OLS Regression Results                            \n",
       "==============================================================================\n",
       "Dep. Variable:     us_boxoffice_gross   R-squared:                       0.989\n",
       "Model:                            OLS   Adj. R-squared:                  0.989\n",
       "Method:                 Least Squares   F-statistic:                     5370.\n",
       "Date:                Sat, 13 Oct 2018   Prob (F-statistic):               0.00\n",
       "Time:                        09:12:43   Log-Likelihood:                -3168.8\n",
       "No. Observations:                1646   AIC:                             6394.\n",
       "Df Residuals:                    1618   BIC:                             6545.\n",
       "Df Model:                          28                                         \n",
       "Covariance Type:            nonrobust                                         \n",
       "==================================================================================\n",
       "                     coef    std err          t      P>|t|      [0.025      0.975]\n",
       "----------------------------------------------------------------------------------\n",
       "runtime            0.0027      0.003      0.785      0.432      -0.004       0.010\n",
       "budget             0.8760      0.028     31.708      0.000       0.822       0.930\n",
       "user_rating       -0.0499      0.054     -0.917      0.359      -0.156       0.057\n",
       "total_votes     3.665e-06   3.87e-07      9.474      0.000    2.91e-06    4.42e-06\n",
       "critic_score       0.0330      0.003     12.503      0.000       0.028       0.038\n",
       "MPAA_Not Rated    -1.2037      0.343     -3.507      0.000      -1.877      -0.530\n",
       "MPAA_PG-13         0.2367      0.283      0.835      0.404      -0.319       0.792\n",
       "MPAA_R            -0.7256      0.293     -2.480      0.013      -1.299      -0.152\n",
       "Action            -0.0383      0.130     -0.295      0.768      -0.293       0.216\n",
       "Adventure         -0.2526      0.140     -1.801      0.072      -0.528       0.023\n",
       "Animation         -0.1172      0.219     -0.536      0.592      -0.547       0.312\n",
       "Biography          0.0308      0.200      0.154      0.877      -0.361       0.422\n",
       "Comedy             0.2206      0.122      1.811      0.070      -0.018       0.460\n",
       "Crime             -0.2378      0.129     -1.842      0.066      -0.491       0.015\n",
       "Drama             -0.6980      0.120     -5.833      0.000      -0.933      -0.463\n",
       "Family             0.2254      0.173      1.304      0.192      -0.114       0.565\n",
       "Fantasy           -0.5615      0.167     -3.365      0.001      -0.889      -0.234\n",
       "History           -0.3842      0.279     -1.377      0.169      -0.932       0.163\n",
       "Horror             0.6910      0.160      4.327      0.000       0.378       1.004\n",
       "Music              0.1406      0.256      0.548      0.584      -0.362       0.643\n",
       "Musical           -0.2226      0.441     -0.504      0.614      -1.089       0.643\n",
       "Mystery            0.0734      0.157      0.468      0.640      -0.234       0.381\n",
       "Romance            0.0720      0.127      0.569      0.569      -0.176       0.320\n",
       "Sci-Fi            -0.4378      0.189     -2.320      0.020      -0.808      -0.068\n",
       "Sport              0.1254      0.260      0.482      0.630      -0.385       0.636\n",
       "Thriller          -0.1338      0.132     -1.016      0.310      -0.392       0.124\n",
       "War               -0.5956      0.381     -1.565      0.118      -1.342       0.151\n",
       "Western            0.4780      0.693      0.690      0.490      -0.880       1.836\n",
       "==============================================================================\n",
       "Omnibus:                      163.426   Durbin-Watson:                   2.034\n",
       "Prob(Omnibus):                  0.000   Jarque-Bera (JB):              238.282\n",
       "Skew:                          -0.749   Prob(JB):                     1.81e-52\n",
       "Kurtosis:                       4.110   Cond. No.                     2.86e+06\n",
       "==============================================================================\n",
       "\n",
       "Warnings:\n",
       "[1] Standard Errors assume that the covariance matrix of the errors is correctly specified.\n",
       "[2] The condition number is large, 2.86e+06. This might indicate that there are\n",
       "strong multicollinearity or other numerical problems.\n",
       "\"\"\""
      ]
     },
     "execution_count": 16,
     "metadata": {},
     "output_type": "execute_result"
    }
   ],
   "source": [
    "# using statsmodels\n",
    "linreg_model_fit = sm.OLS(y_train, X_train).fit()\n",
    "linreg_model_fit.summary()"
   ]
  },
  {
   "cell_type": "markdown",
   "metadata": {},
   "source": [
    "#### Evaluation metrics for OLS Full Model"
   ]
  },
  {
   "cell_type": "code",
   "execution_count": 17,
   "metadata": {},
   "outputs": [
    {
     "name": "stdout",
     "output_type": "stream",
     "text": [
      "RMSE Train: 1.6589672940990068\n"
     ]
    }
   ],
   "source": [
    "# make predictions on testing set\n",
    "y_pred_linreg = linreg_model_fit.predict(X_test)\n",
    "\n",
    "# RMSE for the training set\n",
    "print(\"RMSE Train: {}\".format(\n",
    "    sm.tools.eval_measures.rmse(y_train, linreg_model_fit.fittedvalues, axis=0)))"
   ]
  },
  {
   "cell_type": "code",
   "execution_count": 18,
   "metadata": {
    "collapsed": true
   },
   "outputs": [],
   "source": [
    "# make predictions on testing set\n",
    "y_pred_linreg = linreg_model_fit.predict(X_test)"
   ]
  },
  {
   "cell_type": "code",
   "execution_count": 19,
   "metadata": {},
   "outputs": [
    {
     "name": "stdout",
     "output_type": "stream",
     "text": [
      "RMSE Test: 1.6217756822846299\n",
      "\n",
      "Prediction for first three movies in test dataset: 4121    3.897303e+06\n",
      "554     5.200025e+06\n",
      "2229    1.680238e+07\n",
      "dtype: float64\n"
     ]
    }
   ],
   "source": [
    "# calculate RMSE - MSE \"punishes\" larger errors\n",
    "#                - RMSE is interpretable in the \"y\" units\n",
    "print(\"RMSE Test: {}\".format(sm.tools.eval_measures.rmse(y_test, y_pred_linreg, axis=0)))\n",
    "\n",
    "print(\"\")\n",
    "\n",
    "# # Prediction for first movie in test dataset\n",
    "# # since us_boxoffice_gross is a log transformation, reverting it back using exp fn\n",
    "print(\"Prediction for first three movies in test dataset: {}\".format(np.exp(y_pred_linreg.iloc[0:3])))"
   ]
  },
  {
   "cell_type": "markdown",
   "metadata": {},
   "source": [
    "#### Plotting (OLS Full Model)"
   ]
  },
  {
   "cell_type": "code",
   "execution_count": 20,
   "metadata": {
    "collapsed": true
   },
   "outputs": [],
   "source": [
    "# fitted values\n",
    "linreg_fitted_y = linreg_model_fit.fittedvalues\n",
    "\n",
    "# model residuals\n",
    "linreg_residuals = linreg_model_fit.resid\n",
    "\n",
    "# normalized residuals\n",
    "linreg_norm_residuals = linreg_model_fit.get_influence().resid_studentized_internal\n",
    "\n",
    "# absolute squared normalized residuals\n",
    "linreg_norm_residuals_abs_sqrt = np.sqrt(np.abs(linreg_norm_residuals))\n",
    "\n",
    "# absolute residuals\n",
    "linreg_abs_resid = np.abs(linreg_residuals) \n",
    "\n",
    "# leverage, from statsmodels internals\n",
    "linreg_leverage = linreg_model_fit.get_influence().hat_matrix_diag\n",
    "\n",
    "# cook's distance, from statsmodels internals\n",
    "linreg_cooks = linreg_model_fit.get_influence().cooks_distance[0]"
   ]
  },
  {
   "cell_type": "markdown",
   "metadata": {},
   "source": [
    "#### Residual Plot (OLS Full Model)"
   ]
  },
  {
   "cell_type": "code",
   "execution_count": 21,
   "metadata": {
    "scrolled": true
   },
   "outputs": [
    {
     "data": {
      "image/png": "[encoded data removed]",
      "text/plain": [
       "<matplotlib.figure.Figure at 0x1166a0048>"
      ]
     },
     "metadata": {},
     "output_type": "display_data"
    }
   ],
   "source": [
    "plot_lm_1 = plt.figure(1)\n",
    "plot_lm_1.set_figheight(5)\n",
    "plot_lm_1.set_figwidth(12)\n",
    "plot_lm_1.axes[0] = sns.residplot(linreg_fitted_y, y_train, data=imdb_df_clean, \n",
    "                          lowess=True, \n",
    "                          scatter_kws={'alpha': 0.5}, \n",
    "                          line_kws={'color': 'red', 'lw': 1, 'alpha': 0.8})\n",
    "plot_lm_1.axes[0].set_title('Residuals vs Fitted')\n",
    "plot_lm_1.axes[0].set_xlabel('Fitted values')\n",
    "plot_lm_1.axes[0].set_ylabel('Residuals')\n",
    "\n",
    "# annotations\n",
    "abs_resid = linreg_abs_resid.sort_values(ascending=False)\n",
    "abs_resid_top_3 = abs_resid[:3]\n",
    "for i in abs_resid_top_3.index:\n",
    "    plot_lm_1.axes[0].annotate(i, \n",
    "                               xy=(linreg_fitted_y[i], \n",
    "                                   linreg_residuals[i]))\n"
   ]
  },
  {
   "cell_type": "code",
   "execution_count": 22,
   "metadata": {},
   "outputs": [
    {
     "data": {
      "text/plain": [
       "<matplotlib.text.Text at 0x117776fd0>"
      ]
     },
     "execution_count": 22,
     "metadata": {},
     "output_type": "execute_result"
    },
    {
     "data": {
      "image/png": "[encoded data removed]",
      "text/plain": [
       "<matplotlib.figure.Figure at 0x1177165f8>"
      ]
     },
     "metadata": {},
     "output_type": "display_data"
    }
   ],
   "source": [
    "# historgram of residuals\n",
    "plot_lm_2 = plt.figure(1)\n",
    "plot_lm_2.axes[0] = linreg_model_fit.resid.hist(bins=20)\n",
    "plot_lm_2.axes[0].set_title('Histogram of Residuals')\n",
    "plot_lm_2.axes[0].set_xlabel('Residuals')\n",
    "plot_lm_2.axes[0].set_ylabel('Frequency')\n"
   ]
  },
  {
   "cell_type": "markdown",
   "metadata": {},
   "source": [
    "###### Though the residuals show normality, the pattern in residuals indicate heteroscedasticity. \n",
    "Steps that were taken to combat heteroscedasticity:\n",
    "\n",
    "1) Log transformation of variables\n",
    "\n",
    "2) Removing outliers\n",
    "\n",
    "3) Used VIF to weed out multicollinear variables before adding to model\n",
    "\n",
    "4) Did not try the following: a) Box-Cox Transformation b) Weighted Regression\n"
   ]
  },
  {
   "cell_type": "code",
   "execution_count": 23,
   "metadata": {
    "collapsed": true
   },
   "outputs": [],
   "source": [
    "# from sklearn.linear_model import LinearRegression\n",
    "# def diagnostic_plot(x, y):\n",
    "#     plt.figure(figsize=(20,5))\n",
    "    \n",
    "#     rgr = LinearRegression()\n",
    "#     rgr.fit(x.reshape(s,1),y)\n",
    "#     pred = rgr.predict(x.reshape(s,1))\n",
    "\n",
    "#     plt.subplot(1, 3, 1)\n",
    "#     plt.scatter(x,y)\n",
    "#     plt.plot(x, pred, color='blue',linewidth=1)\n",
    "#     plt.title(\"Regression fit\")\n",
    "#     plt.xlabel(\"x\")\n",
    "#     plt.ylabel(\"y\")\n",
    "    \n",
    "#     plt.subplot(1, 3, 2)\n",
    "#     res = y - pred\n",
    "#     plt.scatter(pred, res)\n",
    "#     plt.title(\"Residual plot\")\n",
    "#     plt.xlabel(\"prediction\")\n",
    "#     plt.ylabel(\"residuals\")\n",
    "    \n",
    "#     plt.subplot(1, 3, 3)\n",
    "#     #Generates a probability plot of sample data against the quantiles of a \n",
    "#     # specified theoretical distribution \n",
    "#     stats.probplot(res, dist=\"norm\", plot=plt)\n",
    "#     plt.title(\"Normal Q-Q plot\")"
   ]
  },
  {
   "cell_type": "code",
   "execution_count": 24,
   "metadata": {
    "collapsed": true
   },
   "outputs": [],
   "source": [
    "# # We can diagnose/ inspect our residual normality assumption using qqplot:\n",
    "# stats.probplot(data['resid'], dist=\"norm\", plot=plt)\n",
    "# plt.title(\"Normal Q-Q plot\")\n",
    "# plt.show()"
   ]
  },
  {
   "cell_type": "markdown",
   "metadata": {},
   "source": [
    "#### Multicollinearity and Feature Elimination "
   ]
  },
  {
   "cell_type": "code",
   "execution_count": 25,
   "metadata": {
    "collapsed": true
   },
   "outputs": [],
   "source": [
    "# if VIF is between 5-10, multicolinearity is likely present we should consider dropping the variable\n",
    "# check for VIF, remove variables with VIF > 4\n",
    "from statsmodels.stats.outliers_influence import variance_inflation_factor    \n",
    "\n",
    "def calculate_vif_(X, thresh=5.0):\n",
    "    variables = list(range(X.shape[1]))\n",
    "    dropped = True\n",
    "    while dropped:\n",
    "        dropped = False\n",
    "        vif = [variance_inflation_factor(X.iloc[:, variables].values, ix)\n",
    "               for ix in range(X.iloc[:, variables].shape[1])]\n",
    "\n",
    "        maxloc = vif.index(max(vif))\n",
    "        if max(vif) > thresh:\n",
    "            print('dropping \\'' + X.iloc[:, variables].columns[maxloc] +\n",
    "                  '\\' at index: ' + str(maxloc))\n",
    "            del variables[maxloc]\n",
    "            dropped = True\n",
    "\n",
    "    print('Remaining variables:')\n",
    "    print(X.columns[variables])\n",
    "    return X.iloc[:, variables]"
   ]
  },
  {
   "cell_type": "code",
   "execution_count": 26,
   "metadata": {
    "collapsed": true
   },
   "outputs": [],
   "source": [
    "# calculate_vif_(X)"
   ]
  },
  {
   "cell_type": "markdown",
   "metadata": {},
   "source": [
    "After running the VIF function, variables with a score between 5 and 10 were weeded out before adding to successive OLS models. This continued to show heteroscedasticity despite normal distribution of residuals. Since transformations, checking VIF for multicollinearity and successive removal of features did not improve the heteroscedasticity, a random forest regressor was used."
   ]
  },
  {
   "cell_type": "markdown",
   "metadata": {
    "collapsed": true
   },
   "source": [
    "**Note:** Please refer to 4_imdb_regression_RF for the random forest model"
   ]
  },
  {
   "cell_type": "code",
   "execution_count": null,
   "metadata": {
    "collapsed": true
   },
   "outputs": [],
   "source": []
  }
 ],
 "metadata": {
  "kernelspec": {
   "display_name": "Python 3",
   "language": "python",
   "name": "python3"
  },
  "language_info": {
   "codemirror_mode": {
    "name": "ipython",
    "version": 3
   },
   "file_extension": ".py",
   "mimetype": "text/x-python",
   "name": "python",
   "nbconvert_exporter": "python",
   "pygments_lexer": "ipython3",
   "version": "3.6.2"
  }
 },
 "nbformat": 4,
 "nbformat_minor": 2
}
