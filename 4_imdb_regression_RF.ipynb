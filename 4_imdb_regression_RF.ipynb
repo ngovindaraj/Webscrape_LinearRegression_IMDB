{
 "cells": [
  {
   "cell_type": "markdown",
   "metadata": {},
   "source": [
    "## IMDB Random Forest Regression"
   ]
  },
  {
   "cell_type": "code",
   "execution_count": 1,
   "metadata": {},
   "outputs": [
    {
     "name": "stderr",
     "output_type": "stream",
     "text": [
      "/Users/navina/anaconda/lib/python3.6/site-packages/statsmodels/compat/pandas.py:56: FutureWarning: The pandas.core.datetools module is deprecated and will be removed in a future version. Please use the pandas.tseries module instead.\n",
      "  from pandas.core import datetools\n"
     ]
    },
    {
     "name": "stdout",
     "output_type": "stream",
     "text": [
      "Populating the interactive namespace from numpy and matplotlib\n"
     ]
    }
   ],
   "source": [
    "import statsmodels.api as sm\n",
    "import pandas as pd\n",
    "import numpy as np\n",
    "from IPython.display import display\n",
    "from scipy import stats\n",
    "from scipy.stats import norm\n",
    "import matplotlib.pyplot as plt\n",
    "import warnings\n",
    "warnings.filterwarnings('ignore')\n",
    "\n",
    "import matplotlib.pyplot as plt\n",
    "import seaborn as sns\n",
    "from statsmodels.graphics.gofplots import ProbPlot\n",
    "sns.set_style(\"whitegrid\")\n",
    "sns.set_palette(\"Set2\")\n",
    "%pylab inline\n",
    "\n",
    "\n",
    "from sklearn.metrics import mean_squared_error\n",
    "from sklearn.metrics import r2_score\n",
    "from sklearn.ensemble import RandomForestRegressor"
   ]
  },
  {
   "cell_type": "code",
   "execution_count": 2,
   "metadata": {
    "collapsed": true
   },
   "outputs": [],
   "source": [
    "imdb_df_clean = pd.read_csv(\"imdb_df_clean.csv\", sep='\\t', index_col=0)"
   ]
  },
  {
   "cell_type": "code",
   "execution_count": 3,
   "metadata": {
    "collapsed": true
   },
   "outputs": [],
   "source": [
    "imdb_df_clean = imdb_df_clean.drop('Unnamed: 0.1', axis = 1)"
   ]
  },
  {
   "cell_type": "code",
   "execution_count": 4,
   "metadata": {},
   "outputs": [
    {
     "data": {
      "text/html": [
       "<div>\n",
       "<style scoped>\n",
       "    .dataframe tbody tr th:only-of-type {\n",
       "        vertical-align: middle;\n",
       "    }\n",
       "\n",
       "    .dataframe tbody tr th {\n",
       "        vertical-align: top;\n",
       "    }\n",
       "\n",
       "    .dataframe thead th {\n",
       "        text-align: right;\n",
       "    }\n",
       "</style>\n",
       "<table border=\"1\" class=\"dataframe\">\n",
       "  <thead>\n",
       "    <tr style=\"text-align: right;\">\n",
       "      <th></th>\n",
       "      <th>genre</th>\n",
       "      <th>runtime</th>\n",
       "      <th>budget</th>\n",
       "      <th>mpaa_rating</th>\n",
       "      <th>user_rating</th>\n",
       "      <th>total_votes</th>\n",
       "      <th>critic_score</th>\n",
       "      <th>us_boxoffice_gross</th>\n",
       "    </tr>\n",
       "  </thead>\n",
       "  <tbody>\n",
       "    <tr>\n",
       "      <th>0</th>\n",
       "      <td>Action, Adventure, Sci-Fi</td>\n",
       "      <td>131.0</td>\n",
       "      <td>190000000</td>\n",
       "      <td>PG-13</td>\n",
       "      <td>7.0</td>\n",
       "      <td>409200</td>\n",
       "      <td>64</td>\n",
       "      <td>101800000</td>\n",
       "    </tr>\n",
       "    <tr>\n",
       "      <th>1</th>\n",
       "      <td>Crime, Drama, Mystery</td>\n",
       "      <td>153.0</td>\n",
       "      <td>46000000</td>\n",
       "      <td>R</td>\n",
       "      <td>8.1</td>\n",
       "      <td>453418</td>\n",
       "      <td>74</td>\n",
       "      <td>61000000</td>\n",
       "    </tr>\n",
       "  </tbody>\n",
       "</table>\n",
       "</div>"
      ],
      "text/plain": [
       "                       genre  runtime     budget mpaa_rating  user_rating  \\\n",
       "0  Action, Adventure, Sci-Fi    131.0  190000000       PG-13          7.0   \n",
       "1      Crime, Drama, Mystery    153.0   46000000           R          8.1   \n",
       "\n",
       "   total_votes  critic_score  us_boxoffice_gross  \n",
       "0       409200            64           101800000  \n",
       "1       453418            74            61000000  "
      ]
     },
     "execution_count": 4,
     "metadata": {},
     "output_type": "execute_result"
    }
   ],
   "source": [
    "imdb_df_clean.head(2)"
   ]
  },
  {
   "cell_type": "markdown",
   "metadata": {},
   "source": [
    "### Dropping Outliers"
   ]
  },
  {
   "cell_type": "code",
   "execution_count": 5,
   "metadata": {
    "collapsed": true
   },
   "outputs": [],
   "source": [
    "imdb_df_clean = imdb_df_clean[(imdb_df_clean.us_boxoffice_gross < 400000000) & (imdb_df_clean.us_boxoffice_gross > 11000)]\n",
    "imdb_df_clean = imdb_df_clean[(imdb_df_clean.budget < 250000000) & (imdb_df_clean.budget > 49999)]"
   ]
  },
  {
   "cell_type": "code",
   "execution_count": 6,
   "metadata": {},
   "outputs": [
    {
     "data": {
      "text/plain": [
       "(2195, 8)"
      ]
     },
     "execution_count": 6,
     "metadata": {},
     "output_type": "execute_result"
    }
   ],
   "source": [
    "imdb_df_clean.shape"
   ]
  },
  {
   "cell_type": "code",
   "execution_count": 7,
   "metadata": {},
   "outputs": [
    {
     "data": {
      "text/plain": [
       "Index(['genre', 'runtime', 'budget', 'mpaa_rating', 'user_rating',\n",
       "       'total_votes', 'critic_score', 'us_boxoffice_gross'],\n",
       "      dtype='object')"
      ]
     },
     "execution_count": 7,
     "metadata": {},
     "output_type": "execute_result"
    }
   ],
   "source": [
    "imdb_df_clean.columns"
   ]
  },
  {
   "cell_type": "markdown",
   "metadata": {},
   "source": [
    "### Log Transformation"
   ]
  },
  {
   "cell_type": "code",
   "execution_count": 8,
   "metadata": {
    "collapsed": true
   },
   "outputs": [],
   "source": [
    "# applying log transformation on us_boxoffice_gross and budget, due to \n",
    "# heteroscedasticity despite normal residuals\n",
    "imdb_df_clean['us_boxoffice_gross'] = np.log(imdb_df_clean['us_boxoffice_gross'])\n",
    "#imdb_df_clean['budget'] = np.log(imdb_df_clean['budget'])"
   ]
  },
  {
   "cell_type": "markdown",
   "metadata": {},
   "source": [
    "### One Hot Encoding"
   ]
  },
  {
   "cell_type": "code",
   "execution_count": 9,
   "metadata": {},
   "outputs": [
    {
     "name": "stdout",
     "output_type": "stream",
     "text": [
      "Added 3 columns for mpaa_rating\n"
     ]
    }
   ],
   "source": [
    "# # converting mpaa_rating to dummy variables\n",
    "# get k-1 dummies out of k categorical levels\n",
    "mpaa_dummies_df = pd.get_dummies(imdb_df_clean['mpaa_rating'], drop_first=True, prefix='MPAA')\n",
    "# join repurposed mpaa_rating with main df\n",
    "imdb_df_clean = imdb_df_clean.join(mpaa_dummies_df)\n",
    "# drop original mpaa_rating column\n",
    "imdb_df_clean = imdb_df_clean.drop('mpaa_rating', axis=1)\n",
    "print(\"Added %d columns for mpaa_rating\" % (mpaa_dummies_df.shape[1]))"
   ]
  },
  {
   "cell_type": "code",
   "execution_count": 10,
   "metadata": {},
   "outputs": [
    {
     "name": "stdout",
     "output_type": "stream",
     "text": [
      "Added 20 columns for genre\n"
     ]
    }
   ],
   "source": [
    "#For multiple genres, create a separate column in DF for each genre\n",
    "genre_dummies_df = imdb_df_clean['genre'].str.get_dummies(sep=', ')\n",
    "# join repurposed genre with main df\n",
    "imdb_df_clean = imdb_df_clean.join(genre_dummies_df)\n",
    "# drop original genre column\n",
    "imdb_df_clean = imdb_df_clean.drop('genre', axis=1)\n",
    "print(\"Added %d columns for genre\"  % (genre_dummies_df.shape[1]))"
   ]
  },
  {
   "cell_type": "markdown",
   "metadata": {},
   "source": [
    "## US Box Office Gross Prediction"
   ]
  },
  {
   "cell_type": "markdown",
   "metadata": {},
   "source": [
    "#### Create random training and testing sets of features and labels"
   ]
  },
  {
   "cell_type": "code",
   "execution_count": 11,
   "metadata": {},
   "outputs": [
    {
     "name": "stdout",
     "output_type": "stream",
     "text": [
      "<class 'pandas.core.frame.DataFrame'>\n",
      "(2195, 28)\n"
     ]
    }
   ],
   "source": [
    "# create a Python list of feature names\n",
    "# Get all columns from dataframe\n",
    "feature_cols = imdb_df_clean.columns.tolist()\n",
    "# Filter columns to remove the ones not needed - retain only numeric varaibles\n",
    "feature_cols  = [c for c in feature_cols if c not in ['us_boxoffice_gross']]\n",
    "# use the list to select a subset of the original DataFrame\n",
    "X = imdb_df_clean[feature_cols]\n",
    "# check type and shape of X\n",
    "print(type(X))\n",
    "print(X.shape)"
   ]
  },
  {
   "cell_type": "code",
   "execution_count": 12,
   "metadata": {},
   "outputs": [
    {
     "name": "stdout",
     "output_type": "stream",
     "text": [
      "<class 'pandas.core.series.Series'>\n",
      "(2195,)\n"
     ]
    }
   ],
   "source": [
    "# select a Series from the DataFrame\n",
    "y = imdb_df_clean['us_boxoffice_gross']\n",
    "# print the first 5 values\n",
    "y.head()\n",
    "# check the type and shape of y\n",
    "print(type(y))\n",
    "print(y.shape)"
   ]
  },
  {
   "cell_type": "markdown",
   "metadata": {},
   "source": [
    "### Splitting X and y into training and testing sets"
   ]
  },
  {
   "cell_type": "code",
   "execution_count": 13,
   "metadata": {},
   "outputs": [
    {
     "name": "stdout",
     "output_type": "stream",
     "text": [
      "(1646, 28)\n",
      "(1646,)\n",
      "(549, 28)\n",
      "(549,)\n"
     ]
    },
    {
     "name": "stderr",
     "output_type": "stream",
     "text": [
      "/Users/navina/anaconda/lib/python3.6/site-packages/sklearn/cross_validation.py:41: DeprecationWarning: This module was deprecated in version 0.18 in favor of the model_selection module into which all the refactored classes and functions are moved. Also note that the interface of the new CV iterators are different from that of this module. This module will be removed in 0.20.\n",
      "  \"This module will be removed in 0.20.\", DeprecationWarning)\n"
     ]
    }
   ],
   "source": [
    "from sklearn.cross_validation import train_test_split\n",
    "X_train, X_test, y_train, y_test = train_test_split(X, y, random_state=1)\n",
    "\n",
    "# default split is 75% for training and 25% for testing\n",
    "print(X_train.shape)\n",
    "print(y_train.shape)\n",
    "print(X_test.shape)\n",
    "print(y_test.shape)"
   ]
  },
  {
   "cell_type": "markdown",
   "metadata": {
    "collapsed": true
   },
   "source": [
    "## Random Forest"
   ]
  },
  {
   "cell_type": "markdown",
   "metadata": {},
   "source": [
    "#### Feature Scaling"
   ]
  },
  {
   "cell_type": "code",
   "execution_count": null,
   "metadata": {
    "collapsed": true
   },
   "outputs": [],
   "source": [
    "# from sklearn.preprocessing import StandardScaler\n",
    "\n",
    "# sc = StandardScaler()  \n",
    "# X_train = sc.fit_transform(X_train)  \n",
    "# X_test = sc.transform(X_test)  "
   ]
  },
  {
   "cell_type": "markdown",
   "metadata": {},
   "source": [
    "#### Hyperparameter Selection"
   ]
  },
  {
   "cell_type": "code",
   "execution_count": null,
   "metadata": {
    "collapsed": true
   },
   "outputs": [],
   "source": [
    "# Beware - reduce thelist values, else it will take too long to run \n",
    "# Keep tweaking the regressor name as you try new combinations of hypterparameters\n",
    "\n",
    "# from sklearn.model_selection import GridSearchCV\n",
    "\n",
    "# param_grid = {\"n_estimators\": [5, 10, 30, 50, 100, 200, 500, 800, 1000],\n",
    "#     \"max_depth\": [3, 5, 7, 10],\n",
    "#     \"max_features\": [1, 3, 5, 7],\n",
    "#     \"min_samples_split\": [2, 5, 10],\n",
    "#     \"min_samples_leaf\": [1, 3, 10],\n",
    "#     \"bootstrap\": [True, False]}\n",
    "\n",
    "# model = RandomForestRegressor(random_state=1)\n",
    "# grid = GridSearchCV(estimator=model, param_grid=param_grid, n_jobs=-1)\n",
    "# grid.fit(X_train_filter1, y_train)\n",
    "\n",
    "# print(grid.best_score_)\n",
    "# print(grid.best_params_)"
   ]
  },
  {
   "cell_type": "markdown",
   "metadata": {},
   "source": [
    "#### Random Forest Regression Model 1: based on hyperparameters picked from GridSearchCV"
   ]
  },
  {
   "cell_type": "code",
   "execution_count": 14,
   "metadata": {},
   "outputs": [
    {
     "data": {
      "text/plain": [
       "RandomForestRegressor(bootstrap=True, criterion='mse', max_depth=None,\n",
       "           max_features=10, max_leaf_nodes=None, min_impurity_decrease=0.0,\n",
       "           min_impurity_split=None, min_samples_leaf=1,\n",
       "           min_samples_split=2, min_weight_fraction_leaf=0.0,\n",
       "           n_estimators=800, n_jobs=1, oob_score=False, random_state=1,\n",
       "           verbose=0, warm_start=False)"
      ]
     },
     "execution_count": 14,
     "metadata": {},
     "output_type": "execute_result"
    }
   ],
   "source": [
    "regressor1 = RandomForestRegressor(random_state=1, n_estimators=800, max_depth=None, max_features=10, \n",
    "                                  min_samples_leaf=1, min_samples_split=2, bootstrap=True)\n",
    "regressor1.fit(X_train, y_train)"
   ]
  },
  {
   "cell_type": "code",
   "execution_count": 15,
   "metadata": {},
   "outputs": [
    {
     "name": "stdout",
     "output_type": "stream",
     "text": [
      "RMSE Train: 0.482175\n",
      "RMSE Test: 1.308381\n",
      "Mean Squared Error:  1.71186175422\n",
      "rsquared: 0.759625534216\n"
     ]
    }
   ],
   "source": [
    "# predicting us_box_office_gross\n",
    "y_pred = regressor1.predict(X_test)\n",
    "\n",
    "#RMSE - train\n",
    "print(\"RMSE Train: %f\" % (sqrt(mean_squared_error(y_train, regressor1.predict(X_train)))))\n",
    "\n",
    "#errors = abs(y_test - y_pred)\n",
    "\n",
    "#print('Mean Absolute Error:', round(np.mean(errors), 2), 'dollars')\n",
    "print(\"RMSE Test: %f\" % (sqrt(mean_squared_error(y_test, y_pred))))\n",
    "\n",
    "#from sklearn.metrics import mean_squared_log_error\n",
    "print('Mean Squared Error: ', mean_squared_error(y_test, y_pred))\n",
    "\n",
    "print('rsquared:',r2_score(y_test, y_pred))"
   ]
  },
  {
   "cell_type": "code",
   "execution_count": 16,
   "metadata": {},
   "outputs": [
    {
     "data": {
      "text/plain": [
       "[('total_votes', 0.36106961921670483),\n",
       " ('budget', 0.26369214788665285),\n",
       " ('critic_score', 0.12402080531360005),\n",
       " ('MPAA_PG-13', 0.042736795650131762),\n",
       " ('runtime', 0.040441007204809025),\n",
       " ('user_rating', 0.03981903522212573),\n",
       " ('MPAA_R', 0.022436627947707528),\n",
       " ('MPAA_Not Rated', 0.018405729950610215),\n",
       " ('Drama', 0.014727681339739869),\n",
       " ('Adventure', 0.01034186957062655),\n",
       " ('Comedy', 0.0082166948083663132),\n",
       " ('Horror', 0.006831223392516985),\n",
       " ('Crime', 0.0063832360957973263),\n",
       " ('Thriller', 0.0057021098797065328),\n",
       " ('Action', 0.0053587794784584275),\n",
       " ('Romance', 0.0046537569021941365),\n",
       " ('Mystery', 0.0040854627681456987),\n",
       " ('Animation', 0.0039239682729779448),\n",
       " ('Fantasy', 0.0036716312605064756),\n",
       " ('Family', 0.0036047018677288502),\n",
       " ('Sci-Fi', 0.0023776128949942266),\n",
       " ('Biography', 0.0022458531302513162),\n",
       " ('Sport', 0.0016482238190823476),\n",
       " ('Music', 0.0010656948889906372),\n",
       " ('War', 0.00094148132042671325),\n",
       " ('History', 0.00089367588100471755),\n",
       " ('Western', 0.00036095364257470364),\n",
       " ('Musical', 0.0003436203935677159)]"
      ]
     },
     "execution_count": 16,
     "metadata": {},
     "output_type": "execute_result"
    }
   ],
   "source": [
    "#Get the top 5 important features from RandomForest\n",
    "importances = list(regressor1.feature_importances_)\n",
    "features_imp = list(zip(feature_cols, importances))\n",
    "features_imp = sorted(features_imp, reverse=True, key = lambda x: x[1])[:]\n",
    "sorted(features_imp, reverse=True, key = lambda x: x[1])[:]"
   ]
  },
  {
   "cell_type": "markdown",
   "metadata": {},
   "source": [
    "#### Model 2  - based on feature importance (retained top 7 out of 28)"
   ]
  },
  {
   "cell_type": "code",
   "execution_count": 17,
   "metadata": {
    "collapsed": true
   },
   "outputs": [],
   "source": [
    "X_train_filter1 = X_train.filter(['total_votes', 'budget', 'critic_score', 'MPAA_PG-13','user_rating', 'runtime', 'MPAA_R'], axis=1)\n",
    "X_test_filter1 = X_test.filter(['total_votes', 'budget', 'critic_score', 'MPAA_PG-13','user_rating', 'runtime', 'MPAA_R'], axis=1)"
   ]
  },
  {
   "cell_type": "code",
   "execution_count": 18,
   "metadata": {},
   "outputs": [
    {
     "data": {
      "text/plain": [
       "RandomForestRegressor(bootstrap=True, criterion='mse', max_depth=None,\n",
       "           max_features='auto', max_leaf_nodes=None,\n",
       "           min_impurity_decrease=0.0, min_impurity_split=None,\n",
       "           min_samples_leaf=1, min_samples_split=2,\n",
       "           min_weight_fraction_leaf=0.0, n_estimators=1000, n_jobs=1,\n",
       "           oob_score=False, random_state=1, verbose=0, warm_start=False)"
      ]
     },
     "execution_count": 18,
     "metadata": {},
     "output_type": "execute_result"
    }
   ],
   "source": [
    "regressor2 = RandomForestRegressor(random_state=1, n_estimators=1000, max_depth=None, \n",
    "                                  min_samples_leaf=1, min_samples_split=2, bootstrap=True)\n",
    "regressor2.fit(X_train_filter1, y_train)"
   ]
  },
  {
   "cell_type": "code",
   "execution_count": 19,
   "metadata": {},
   "outputs": [
    {
     "name": "stdout",
     "output_type": "stream",
     "text": [
      "RMSE Train: 0.513964\n",
      "RMSE Test: 1.386805\n",
      "Mean Squared Error:  1.92322682933\n",
      "rsquared: 0.729946287694\n"
     ]
    }
   ],
   "source": [
    "# predicting us_box_office_gross\n",
    "y_pred = regressor2.predict(X_test_filter1)\n",
    "\n",
    "#RMSE - train\n",
    "print(\"RMSE Train: %f\" % (sqrt(mean_squared_error(y_train, regressor2.predict(X_train_filter1)))))\n",
    "\n",
    "#errors = abs(y_test - y_pred)\n",
    "\n",
    "#print('Mean Absolute Error:', round(np.mean(errors), 2), 'dollars')\n",
    "print(\"RMSE Test: %f\" % (sqrt(mean_squared_error(y_test, y_pred))))\n",
    "\n",
    "#from sklearn.metrics import mean_squared_log_error\n",
    "print('Mean Squared Error: ', mean_squared_error(y_test, y_pred))\n",
    "\n",
    "print('rsquared:',r2_score(y_test, y_pred))"
   ]
  },
  {
   "cell_type": "markdown",
   "metadata": {},
   "source": [
    "#### Model 3 - based on feature importance (retained top 5 out of 7)"
   ]
  },
  {
   "cell_type": "code",
   "execution_count": 21,
   "metadata": {
    "collapsed": true
   },
   "outputs": [],
   "source": [
    "X_train_filter2 = X_train.filter(['total_votes', 'budget', 'critic_score', 'MPAA_PG-13','user_rating'], axis=1)\n",
    "X_test_filter2 = X_test.filter(['total_votes', 'budget', 'critic_score', 'MPAA_PG-13','user_rating'], axis=1)"
   ]
  },
  {
   "cell_type": "code",
   "execution_count": 22,
   "metadata": {},
   "outputs": [
    {
     "data": {
      "text/plain": [
       "RandomForestRegressor(bootstrap=True, criterion='mse', max_depth=None,\n",
       "           max_features='auto', max_leaf_nodes=None,\n",
       "           min_impurity_decrease=0.0, min_impurity_split=None,\n",
       "           min_samples_leaf=1, min_samples_split=2,\n",
       "           min_weight_fraction_leaf=0.0, n_estimators=5000, n_jobs=1,\n",
       "           oob_score=False, random_state=1, verbose=0, warm_start=False)"
      ]
     },
     "execution_count": 22,
     "metadata": {},
     "output_type": "execute_result"
    }
   ],
   "source": [
    "regressor3 = RandomForestRegressor(random_state=1, n_estimators=5000, max_depth=None, \n",
    "                                  min_samples_leaf=1, min_samples_split=2, bootstrap=True)\n",
    "regressor3.fit(X_train_filter2, y_train)"
   ]
  },
  {
   "cell_type": "code",
   "execution_count": 23,
   "metadata": {},
   "outputs": [
    {
     "name": "stdout",
     "output_type": "stream",
     "text": [
      "RMSE Train: 0.518236\n",
      "RMSE Test: 1.394336\n",
      "Mean Squared Error:  1.94417297235\n",
      "rsquared: 0.72700509345\n"
     ]
    }
   ],
   "source": [
    "# predicting us_box_office_gross\n",
    "y_pred = regressor3.predict(X_test_filter2)\n",
    "\n",
    "#RMSE - train\n",
    "print(\"RMSE Train: %f\" % (sqrt(mean_squared_error(y_train, regressor3.predict(X_train_filter2)))))\n",
    "\n",
    "#errors = abs(y_test - y_pred)\n",
    "\n",
    "#print('Mean Absolute Error:', round(np.mean(errors), 2), 'dollars')\n",
    "print(\"RMSE Test: %f\" % (sqrt(mean_squared_error(y_test, y_pred))))\n",
    "\n",
    "#from sklearn.metrics import mean_squared_log_error\n",
    "print('Mean Squared Error: ', mean_squared_error(y_test, y_pred))\n",
    "\n",
    "print('rsquared:',r2_score(y_test, y_pred))"
   ]
  },
  {
   "cell_type": "markdown",
   "metadata": {},
   "source": [
    "#### Model 4 - based on feature importance"
   ]
  },
  {
   "cell_type": "code",
   "execution_count": 24,
   "metadata": {
    "collapsed": true
   },
   "outputs": [],
   "source": [
    "X_train_filter3 = X_train.filter(['total_votes', 'budget', 'critic_score', 'MPAA_PG-13','user_rating', 'runtime', 'MPAA_R', 'MPAA_Not Rated', 'Drama', 'Adventure', 'Comedy', 'Horror', 'Crime', 'Thriller', 'Action','Romance'], axis=1)\n",
    "X_test_filter3 = X_test.filter(['total_votes', 'budget', 'critic_score', 'MPAA_PG-13','user_rating', 'runtime', 'MPAA_R', 'MPAA_Not Rated', 'Drama', 'Adventure', 'Comedy','Horror', 'Crime', 'Thriller', 'Action','Romance' ], axis=1)"
   ]
  },
  {
   "cell_type": "code",
   "execution_count": 25,
   "metadata": {},
   "outputs": [
    {
     "data": {
      "text/plain": [
       "RandomForestRegressor(bootstrap=True, criterion='mse', max_depth=None,\n",
       "           max_features='auto', max_leaf_nodes=None,\n",
       "           min_impurity_decrease=0.0, min_impurity_split=None,\n",
       "           min_samples_leaf=1, min_samples_split=2,\n",
       "           min_weight_fraction_leaf=0.0, n_estimators=1500, n_jobs=1,\n",
       "           oob_score=False, random_state=1, verbose=0, warm_start=False)"
      ]
     },
     "execution_count": 25,
     "metadata": {},
     "output_type": "execute_result"
    }
   ],
   "source": [
    "regressor4 = RandomForestRegressor(random_state=1, n_estimators=1500, max_depth=None, \n",
    "                                  min_samples_leaf=1, min_samples_split=2, bootstrap=True)\n",
    "regressor4.fit(X_train_filter3, y_train)"
   ]
  },
  {
   "cell_type": "code",
   "execution_count": 26,
   "metadata": {},
   "outputs": [
    {
     "name": "stdout",
     "output_type": "stream",
     "text": [
      "RMSE Train: 0.488439\n",
      "RMSE Test: 1.355590\n",
      "Mean Squared Error:  1.83762383174\n",
      "rsquared: 0.741966402499\n"
     ]
    }
   ],
   "source": [
    "# predicting us_box_office_gross\n",
    "y_pred = regressor4.predict(X_test_filter3)\n",
    "\n",
    "#RMSE - train\n",
    "print(\"RMSE Train: %f\" % (sqrt(mean_squared_error(y_train, regressor4.predict(X_train_filter3)))))\n",
    "\n",
    "#errors = abs(y_test - y_pred)\n",
    "\n",
    "#print('Mean Absolute Error:', round(np.mean(errors), 2), 'dollars')\n",
    "print(\"RMSE Test: %f\" % (sqrt(mean_squared_error(y_test, y_pred))))\n",
    "\n",
    "#from sklearn.metrics import mean_squared_log_error\n",
    "print('Mean Squared Error: ', mean_squared_error(y_test, y_pred))\n",
    "\n",
    "print('rsquared:',r2_score(y_test, y_pred))"
   ]
  },
  {
   "cell_type": "code",
   "execution_count": null,
   "metadata": {
    "collapsed": true
   },
   "outputs": [],
   "source": []
  },
  {
   "cell_type": "code",
   "execution_count": 27,
   "metadata": {
    "collapsed": true
   },
   "outputs": [],
   "source": [
    "# #Get the top 5 important features from RandomForest\n",
    "# importances = list(rf.feature_importances_)\n",
    "# features_imp = list(zip(feature_cols, importances))\n",
    "# features_imp = sorted(features_imp, reverse=True, key = lambda x: x[1])[:5]\n",
    "# sorted(features_imp, reverse=True, key = lambda x: x[1])[:5]"
   ]
  },
  {
   "cell_type": "code",
   "execution_count": null,
   "metadata": {
    "collapsed": true
   },
   "outputs": [],
   "source": [
    "# # Beware - takes time to run: shows how # of trees/estimators relate to RMSE\n",
    "# plot_df=pd.DataFrame()\n",
    "# rmse_lst = []\n",
    "# plot_df['# Estimators'] = list(range(50, 5000, 50))\n",
    "# for i in range(50, 5000, 50):\n",
    "#     regressor3 = RandomForestRegressor(random_state=1, n_estimators=i, max_depth=None, \n",
    "#                                   min_samples_leaf=1, min_samples_split=2, bootstrap=True)\n",
    "#     regressor3.fit(X_train_filter2, y_train)\n",
    "#     # predicting us_box_office_gross\n",
    "#     y_pred = regressor3.predict(X_test_filter2)\n",
    "#     # print(\"RMSE Test: %f n_estimators=%d\" % (sqrt(mean_squared_error(y_test, y_pred)), i))\n",
    "#     print('.')\n",
    "#     rmse_lst.append(sqrt(mean_squared_error(y_test, y_pred)))\n",
    "# plot_df['RMSE'] = rmse_lst\n",
    "# ax = sns.lineplot(x='# Estimators', y='RMSE', data=plot_df)"
   ]
  },
  {
   "cell_type": "code",
   "execution_count": null,
   "metadata": {
    "collapsed": true
   },
   "outputs": [],
   "source": [
    "# # Import tools needed for visualizing trees using pydot - generates a dot file\n",
    "# from sklearn.tree import export_graphviz\n",
    "# import pydot\n",
    "\n",
    "# # Pull out one tree from the forest\n",
    "# tree = rf.estimators_[5]\n",
    "\n",
    "# # Export the image to a dot file\n",
    "# export_graphviz(tree, out_file = 'tree.dot', feature_names = feature_cols, rounded = True, precision = 1)"
   ]
  },
  {
   "cell_type": "code",
   "execution_count": null,
   "metadata": {
    "collapsed": true
   },
   "outputs": [],
   "source": [
    "# # Use dot file to create a graph - exports to png\n",
    "# (graph, ) = pydot.graph_from_dot_file('tree.dot')\n",
    "# # Write graph to a png file\n",
    "# graph.write_png('tree.png')"
   ]
  },
  {
   "cell_type": "markdown",
   "metadata": {},
   "source": [
    "#### Feature Importance for best model (Model Interpretation)"
   ]
  },
  {
   "cell_type": "code",
   "execution_count": 29,
   "metadata": {},
   "outputs": [
    {
     "data": {
      "text/html": [
       "<div>\n",
       "<style scoped>\n",
       "    .dataframe tbody tr th:only-of-type {\n",
       "        vertical-align: middle;\n",
       "    }\n",
       "\n",
       "    .dataframe tbody tr th {\n",
       "        vertical-align: top;\n",
       "    }\n",
       "\n",
       "    .dataframe thead th {\n",
       "        text-align: right;\n",
       "    }\n",
       "</style>\n",
       "<table border=\"1\" class=\"dataframe\">\n",
       "  <thead>\n",
       "    <tr style=\"text-align: right;\">\n",
       "      <th></th>\n",
       "      <th>total_votes</th>\n",
       "      <th>budget</th>\n",
       "      <th>critic_score</th>\n",
       "      <th>MPAA_PG-13</th>\n",
       "      <th>runtime</th>\n",
       "      <th>user_rating</th>\n",
       "      <th>MPAA_R</th>\n",
       "      <th>MPAA_Not Rated</th>\n",
       "      <th>Drama</th>\n",
       "      <th>Adventure</th>\n",
       "      <th>...</th>\n",
       "      <th>Fantasy</th>\n",
       "      <th>Family</th>\n",
       "      <th>Sci-Fi</th>\n",
       "      <th>Biography</th>\n",
       "      <th>Sport</th>\n",
       "      <th>Music</th>\n",
       "      <th>War</th>\n",
       "      <th>History</th>\n",
       "      <th>Western</th>\n",
       "      <th>Musical</th>\n",
       "    </tr>\n",
       "  </thead>\n",
       "  <tbody>\n",
       "    <tr>\n",
       "      <th>values</th>\n",
       "      <td>0.36107</td>\n",
       "      <td>0.263692</td>\n",
       "      <td>0.124021</td>\n",
       "      <td>0.042737</td>\n",
       "      <td>0.040441</td>\n",
       "      <td>0.039819</td>\n",
       "      <td>0.022437</td>\n",
       "      <td>0.018406</td>\n",
       "      <td>0.014728</td>\n",
       "      <td>0.010342</td>\n",
       "      <td>...</td>\n",
       "      <td>0.003672</td>\n",
       "      <td>0.003605</td>\n",
       "      <td>0.002378</td>\n",
       "      <td>0.002246</td>\n",
       "      <td>0.001648</td>\n",
       "      <td>0.001066</td>\n",
       "      <td>0.000941</td>\n",
       "      <td>0.000894</td>\n",
       "      <td>0.000361</td>\n",
       "      <td>0.000344</td>\n",
       "    </tr>\n",
       "  </tbody>\n",
       "</table>\n",
       "<p>1 rows × 28 columns</p>\n",
       "</div>"
      ],
      "text/plain": [
       "        total_votes    budget  critic_score  MPAA_PG-13   runtime  \\\n",
       "values      0.36107  0.263692      0.124021    0.042737  0.040441   \n",
       "\n",
       "        user_rating    MPAA_R  MPAA_Not Rated     Drama  Adventure    ...     \\\n",
       "values     0.039819  0.022437        0.018406  0.014728   0.010342    ...      \n",
       "\n",
       "         Fantasy    Family    Sci-Fi  Biography     Sport     Music       War  \\\n",
       "values  0.003672  0.003605  0.002378   0.002246  0.001648  0.001066  0.000941   \n",
       "\n",
       "         History   Western   Musical  \n",
       "values  0.000894  0.000361  0.000344  \n",
       "\n",
       "[1 rows x 28 columns]"
      ]
     },
     "execution_count": 29,
     "metadata": {},
     "output_type": "execute_result"
    }
   ],
   "source": [
    "feature_import = pd.DataFrame(data=regressor1.feature_importances_, index=X_train.columns.values, columns=['values'])\n",
    "feature_import.sort_values(['values'], ascending=False, inplace=True)\n",
    "feature_import.transpose()"
   ]
  },
  {
   "cell_type": "code",
   "execution_count": null,
   "metadata": {
    "collapsed": true
   },
   "outputs": [],
   "source": [
    "# # plot feature importance\n",
    "# feature_import.reset_index(level=0, inplace=True)\n",
    "# sns.barplot(x='index', y='values', data=feature_import, palette='deep')\n",
    "# plt.show()\n",
    "\n",
    "# # plot feature importance\n",
    "# # feature_import.reset_index(level=0, inplace=True)\n",
    "# fig, ax = plt.subplots()\n",
    "# # the size of A4 paper\n",
    "# fig.set_size_inches(11.7, 8.27)\n",
    "# sns.barplot(x='values', y='index', data=feature_import, palette='deep')\n",
    "# plt.show()"
   ]
  },
  {
   "cell_type": "code",
   "execution_count": null,
   "metadata": {
    "collapsed": true
   },
   "outputs": [],
   "source": []
  }
 ],
 "metadata": {
  "kernelspec": {
   "display_name": "Python 3",
   "language": "python",
   "name": "python3"
  },
  "language_info": {
   "codemirror_mode": {
    "name": "ipython",
    "version": 3
   },
   "file_extension": ".py",
   "mimetype": "text/x-python",
   "name": "python",
   "nbconvert_exporter": "python",
   "pygments_lexer": "ipython3",
   "version": "3.6.2"
  }
 },
 "nbformat": 4,
 "nbformat_minor": 2
}
